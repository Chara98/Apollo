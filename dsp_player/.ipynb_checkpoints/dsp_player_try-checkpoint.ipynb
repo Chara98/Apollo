{
 "cells": [
  {
   "cell_type": "code",
   "execution_count": 1,
   "metadata": {},
   "outputs": [],
   "source": [
    "import audioread\n",
    "import os\n",
    "import sys\n",
    "import numpy as np\n",
    "import time\n",
    "import pyo"
   ]
  },
  {
   "cell_type": "code",
   "execution_count": 2,
   "metadata": {},
   "outputs": [],
   "source": [
    "class Pyo_decoder():\n",
    "    \n",
    "    def __init__(self, server, chunk = 2048, samples = 44100, channels = 2):\n",
    "        \"\"\"\"\"\"\n",
    "        self.server = server\n",
    "        self.chunk = chunk  \n",
    "        self.chans = channels\n",
    "        self.audio_bytes = bytearray()\n",
    "        self.pointer = 0\n",
    "        \n",
    "    def play(self, filename, flag) -> \"pyo.Datatable\":\n",
    "        if self.server.getIsBooted():\n",
    "            if flag == \"full\":\n",
    "                self.gen = self._decode_full(filename)\n",
    "                start = self._bytes_to_samples(self.gen)\n",
    "                self.data_table = pyo.DataTable(size = len(start[1]), chnls = self.chans, init = start)\n",
    "                \n",
    "                return self.data_table                      \n",
    "            \n",
    "            if flag == \"gen\":\n",
    "                self.gen = self._decode_gen(filename)\n",
    "                samples = self._bytes_to_samples(next(self.gen))\n",
    "                samples_table = pyo.DataTable(size = len(samples[1]),\n",
    "                                              chnls = self.chans,\n",
    "                                              init = samples).normalize() \n",
    "                self.pointer = len(samples[1])\n",
    "                self.data_table = pyo.DataTable(int(self.duration*self.sample_rate), chnls=2)\n",
    "                print(int(self.duration*self.sample_rate))\n",
    "                self.data_table.copyData(samples_table, destpos = self.pointer, length = len(samples[1]))\n",
    "                self.server.setCallback(self._gen_update)\n",
    "                return self.data_table      \n",
    "    \n",
    "\n",
    "    def _decode_gen(self, filename) -> \"Generator\": \n",
    "        audio_stream = audioread.ffdec.FFmpegAudioFile(filename, self.chunk)\n",
    "        self.duration, self.sample_rate = audio_stream.duration, audio_stream.samplerate\n",
    "\n",
    "        self.server.setCallback(self._gen_update)\n",
    "        self.audio_bytes = bytearray()\n",
    "        for in_bytes in audio_stream:\n",
    "            self.audio_bytes.extend(in_bytes)\n",
    "            yield in_bytes\n",
    "    \n",
    "\n",
    "    def _decode_full(self, filename) -> \"Bytes List\": \n",
    "        audio_stream = audioread.ffdec.FFmpegAudioFile(filename, self.chunk)\n",
    "        self.duration, self.sample_rate = audio_stream.duration, audio_stream.samplerate\n",
    "        \n",
    "        self.audio_bytes = bytearray()\n",
    "        for in_bytes in audio_stream:\n",
    "            self.audio_bytes.extend(in_bytes)\n",
    "        return self.audio_bytes\n",
    "    \n",
    "    \n",
    "    def _bytes_to_samples(self, byte) -> \"List\":\n",
    "        in_bytes = byte\n",
    "        in_frame = np.frombuffer(in_bytes, np.int16)\n",
    "        in_frame = np.asarray([in_frame[::2], in_frame[1::2]]).tolist()        \n",
    "        return in_frame\n",
    "    \n",
    "    \n",
    "    def _gen_update(self):\n",
    "        try:\n",
    "            if (self.server.getIsStarted()):\n",
    "                samples = self._bytes_to_samples(next(self.gen))\n",
    "                samples_table = pyo.DataTable(size = len(samples[1]),\n",
    "                                              chnls = self.chans,\n",
    "                                              init = samples).normalize() \n",
    "                self.pointer += len(samples[1])\n",
    "                self.data_table.copyData(samples_table, destpos = self.pointer, length = len(samples[1]))\n",
    "        except:\n",
    "            self.server.setCallback(lambda: '')\n",
    "    \n",
    "    \n",
    "    def stream_scrubber(self, table, sec = 0) -> \"pyo.Pointer2\":\n",
    "        dur = (table.getSize() / table.getSamplingRate())\n",
    "        end = (table.getSize())\n",
    "        pointer = pyo.Linseg([(0, (sec / dur)), (dur, 1)])\n",
    "        pointer.play()\n",
    "        pointer_obj = pyo.Pointer2(table, pointer)\n",
    "        return pointer_obj"
   ]
  },
  {
   "cell_type": "code",
   "execution_count": 3,
   "metadata": {},
   "outputs": [],
   "source": [
    "CHUNK = 2048\n",
    "s = pyo.Server(buffersize = int(CHUNK/4)).boot()\n",
    "s.setVerbosity(8)\n",
    "decoder = Pyo_decoder(server = s, chunk = CHUNK)\n",
    "table = decoder.play('C:\\\\Users\\\\OMMAR\\\\Music\\\\SONGS SORTED\\\\4000\\\\3500-3750\\\\01 Away.mp3', \"gen\")"
   ]
  },
  {
   "cell_type": "code",
   "execution_count": 4,
   "metadata": {},
   "outputs": [],
   "source": [
    "sec = 4\n",
    "dur = (table.getSize() / table.getSamplingRate())\n",
    "env = dur-sec \n",
    "\n",
    "pointer = pyo.Linseg([(0, (sec/dur)), (env, 1)])\n",
    "pointer.play()\n",
    "pointer_obj = pyo.TableIndex(table, pointer)\n",
    "pointer_obj.play()\n",
    "a = pyo.SineLoop(freq=pointer_obj, feedback = 0.05, mul=.2).out()\n",
    "sec = pyo.Spectrum(a)"
   ]
  },
  {
   "cell_type": "code",
   "execution_count": null,
   "metadata": {},
   "outputs": [],
   "source": [
    "pointer.graph()\n",
    "s.gui(locals())"
   ]
  }
 ],
 "metadata": {
  "kernelspec": {
   "display_name": "Python 3",
   "language": "python",
   "name": "python3"
  },
  "language_info": {
   "codemirror_mode": {
    "name": "ipython",
    "version": 3
   },
   "file_extension": ".py",
   "mimetype": "text/x-python",
   "name": "python",
   "nbconvert_exporter": "python",
   "pygments_lexer": "ipython3",
   "version": "3.8.1"
  }
 },
 "nbformat": 4,
 "nbformat_minor": 4
}
